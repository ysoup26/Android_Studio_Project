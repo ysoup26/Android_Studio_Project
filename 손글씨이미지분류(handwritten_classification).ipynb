{
  "nbformat": 4,
  "nbformat_minor": 0,
  "metadata": {
    "colab": {
      "provenance": [],
      "toc_visible": true,
      "authorship_tag": "ABX9TyPG5fB/4r+VivoLvCKDWzcJ",
      "include_colab_link": true
    },
    "kernelspec": {
      "name": "python3",
      "display_name": "Python 3"
    },
    "language_info": {
      "name": "python"
    }
  },
  "cells": [
    {
      "cell_type": "markdown",
      "metadata": {
        "id": "view-in-github",
        "colab_type": "text"
      },
      "source": [
        "<a href=\"https://colab.research.google.com/github/seoyeon1359/Android_Studio_Project/blob/main/%EC%86%90%EA%B8%80%EC%94%A8%EC%9D%B4%EB%AF%B8%EC%A7%80%EB%B6%84%EB%A5%98(handwritten_classification).ipynb\" target=\"_parent\"><img src=\"https://colab.research.google.com/assets/colab-badge.svg\" alt=\"Open In Colab\"/></a>"
      ]
    },
    {
      "cell_type": "markdown",
      "source": [
        "**손글씨 이미지를 분류하는 CNN 모델**\n",
        "- 한글(가,다,사,아,카)만을 분류함.\n",
        "- 하단 블로그의 모델을 참고하여 수정하였음.\n",
        "- 이미지 데이터 수집은 폰트 이미지를 이용함.\n",
        "\n",
        "[참고 블로그 링크](https://chancoding.tistory.com/93)\n",
        "\n",
        "+)학습 및 실행을 위해 이미지 파일 폴더를 드라이브의 정해진 위치에 두어야함"
      ],
      "metadata": {
        "id": "AuuWhoZsCJw8"
      }
    },
    {
      "cell_type": "markdown",
      "source": [
        "# 초기설정"
      ],
      "metadata": {
        "id": "BPzJJheX5jiu"
      }
    },
    {
      "cell_type": "code",
      "source": [
        "#필요 라이브러리 import\n",
        "from tensorflow.keras.preprocessing import image \n",
        "from keras.models import Sequential\n",
        "from keras.layers import *\n",
        "#from keras.callbacks import ModelCheckpoint, EarlyStopping\n",
        "import os\n",
        "#import pandas as pd\n",
        "import numpy as np\n",
        "import matplotlib.pyplot as plt\n",
        "#from sklearn.metrics import accuracy_score"
      ],
      "metadata": {
        "id": "WzJlYyHI2Vnn"
      },
      "execution_count": null,
      "outputs": []
    },
    {
      "cell_type": "code",
      "source": [
        "#드라이브 마운트-이미지 데이터를 가져오기 위해\n",
        "from google.colab import drive\n",
        "drive.mount('/content/drive')"
      ],
      "metadata": {
        "colab": {
          "base_uri": "https://localhost:8080/"
        },
        "id": "FurPTPnK3K_m",
        "outputId": "3eea4de0-0eb5-4f5d-ee62-cea2648c94ca"
      },
      "execution_count": null,
      "outputs": [
        {
          "output_type": "stream",
          "name": "stdout",
          "text": [
            "Drive already mounted at /content/drive; to attempt to forcibly remount, call drive.mount(\"/content/drive\", force_remount=True).\n"
          ]
        }
      ]
    },
    {
      "cell_type": "markdown",
      "source": [
        "자신의 드라이브의 Colab Notebooks에 하위폴더생성\n"
      ],
      "metadata": {
        "id": "DWdI8yaYHnXY"
      }
    },
    {
      "cell_type": "code",
      "source": [
        "cd /content/drive/MyDrive/Colab Notebooks/handwritten_classification"
      ],
      "metadata": {
        "colab": {
          "base_uri": "https://localhost:8080/"
        },
        "id": "LH43m_OH3O0F",
        "outputId": "c07dd3f2-509b-47f1-c66e-f7ad6ace9e2d"
      },
      "execution_count": null,
      "outputs": [
        {
          "output_type": "stream",
          "name": "stdout",
          "text": [
            "/content/drive/MyDrive/Colab Notebooks/handwritten_classification\n"
          ]
        }
      ]
    },
    {
      "cell_type": "code",
      "source": [
        "pwd"
      ],
      "metadata": {
        "colab": {
          "base_uri": "https://localhost:8080/",
          "height": 36
        },
        "id": "V192DoGVZeBH",
        "outputId": "1347d8a3-4f02-43b2-b6ec-ebc1c608adbd"
      },
      "execution_count": null,
      "outputs": [
        {
          "output_type": "execute_result",
          "data": {
            "text/plain": [
              "'/content/drive/MyDrive/Colab Notebooks/handwritten_classification'"
            ],
            "application/vnd.google.colaboratory.intrinsic+json": {
              "type": "string"
            }
          },
          "metadata": {},
          "execution_count": 195
        }
      ]
    },
    {
      "cell_type": "code",
      "source": [
        "#이미지 데이터 경로 설정 및 폴더 확인\n",
        "path = './img_dataset/'\n",
        "trainFolderList = os.listdir(path+'train') \n",
        "testFolderList = os.listdir(path+'test')"
      ],
      "metadata": {
        "id": "YOPBQzxn2ZEG"
      },
      "execution_count": null,
      "outputs": []
    },
    {
      "cell_type": "markdown",
      "source": [
        "train(총 50개)과 test(총 25개) 이미지가 나누어 저장되어있음"
      ],
      "metadata": {
        "id": "USmOnzsmH_ka"
      }
    },
    {
      "cell_type": "code",
      "source": [
        "trainFolderList,testFolderList, #순서가 같지 않으면 test데이터로 검증시 라벨링 오류 발생"
      ],
      "metadata": {
        "colab": {
          "base_uri": "https://localhost:8080/"
        },
        "id": "X6EX9SuBlVAl",
        "outputId": "f5ccf84b-623e-475d-da3d-9c4c5e773bef"
      },
      "execution_count": null,
      "outputs": [
        {
          "output_type": "execute_result",
          "data": {
            "text/plain": [
              "(['aa', 'da', 'ga', 'ka', 'sa'], ['aa', 'da', 'ga', 'ka', 'sa'])"
            ]
          },
          "metadata": {},
          "execution_count": 285
        }
      ]
    },
    {
      "cell_type": "code",
      "source": [
        "#라벨링을 위한 딕셔너리 변수\n",
        "word = {'aa' : 0, 'da' : 1, 'ga' : 2, 'ka' : 3, 'sa' : 4}"
      ],
      "metadata": {
        "id": "81FENoYm51hG"
      },
      "execution_count": null,
      "outputs": []
    },
    {
      "cell_type": "code",
      "source": [
        "# 이미지 확인하기\n",
        "sample_img = plt.imread(path+'train/ga/ga (6).png')\n",
        "plt.imshow(sample_img)\n",
        "plt.show()"
      ],
      "metadata": {
        "id": "PB1bigBnYzeX",
        "colab": {
          "base_uri": "https://localhost:8080/",
          "height": 268
        },
        "outputId": "738948b0-3385-472d-ffa9-6b066a6da8a2"
      },
      "execution_count": null,
      "outputs": [
        {
          "output_type": "display_data",
          "data": {
            "text/plain": [
              "<Figure size 432x288 with 1 Axes>"
            ],
            "image/png": "[encoded data removed]"
          },
          "metadata": {
            "needs_background": "light"
          }
        }
      ]
    },
    {
      "cell_type": "markdown",
      "source": [
        "# 이미지 데이터 준비"
      ],
      "metadata": {
        "id": "qoM2iAKvAgMx"
      }
    },
    {
      "cell_type": "code",
      "source": [
        "#데이터 가져오기+전처리 및 증강\n",
        "trainDataGen = image.ImageDataGenerator(rescale=1./255, #정규화\n",
        "                                 rotation_range = 30,\n",
        "                                 width_shift_range=0.1,\n",
        "                                 height_shift_range=0.1,\n",
        "                                 shear_range=0.2,\n",
        "                                 zoom_range=0.2,\n",
        "                                 horizontal_flip=False,\n",
        "                                 vertical_flip=False,\n",
        "                                 fill_mode='nearest' #변형후 공간 채우기\n",
        "                                 )\n"
      ],
      "metadata": {
        "id": "Dp6Eb3ltkUD1"
      },
      "execution_count": null,
      "outputs": []
    },
    {
      "cell_type": "code",
      "source": [
        "#디렉토리로부터 데이터를 가져와서 생성\n",
        "trainGenSet = trainDataGen.flow_from_directory(\n",
        "    path + 'train', \n",
        "    batch_size=10, #한 이미지당 10개 출력\n",
        "    target_size=(28,28), #출력이미지 크기\n",
        "    class_mode='categorical' #원-핫인코딩\n",
        ")"
      ],
      "metadata": {
        "colab": {
          "base_uri": "https://localhost:8080/"
        },
        "id": "d0ux6YxJkeB9",
        "outputId": "edc1e829-4aa7-4a8f-9605-d2e5a6297fdf"
      },
      "execution_count": null,
      "outputs": [
        {
          "output_type": "stream",
          "name": "stdout",
          "text": [
            "Found 50 images belonging to 5 classes.\n"
          ]
        }
      ]
    },
    {
      "cell_type": "code",
      "source": [
        "testDataGen = ImageDataGenerator(rescale=1./255) #정규화만"
      ],
      "metadata": {
        "id": "5oK40KfYmbwE"
      },
      "execution_count": null,
      "outputs": []
    },
    {
      "cell_type": "code",
      "source": [
        "testGenSet = testDataGen.flow_from_directory(\n",
        "    path + 'test',\n",
        "    target_size=(28,28),\n",
        "    batch_size=10,\n",
        "    class_mode='categorical'\n",
        ")"
      ],
      "metadata": {
        "colab": {
          "base_uri": "https://localhost:8080/"
        },
        "id": "W2qmHVIzmX6M",
        "outputId": "635ddddf-96a1-416d-fcb0-959276b19f91"
      },
      "execution_count": null,
      "outputs": [
        {
          "output_type": "stream",
          "name": "stdout",
          "text": [
            "Found 25 images belonging to 5 classes.\n"
          ]
        }
      ]
    },
    {
      "cell_type": "code",
      "source": [
        "#이미지 증강 결과 확인\n",
        "cnt = 1\n",
        "plt.figure(figsize=(10,10))\n",
        "for img in trainDataGen.flow(sample_img[np.newaxis, ...]):#생성해서 img로\n",
        "    plt.subplot(1, 4, cnt)\n",
        "    plt.imshow(image.array_to_img(img[0]))\n",
        "    if cnt == 4:\n",
        "        break\n",
        "    cnt += 1"
      ],
      "metadata": {
        "colab": {
          "base_uri": "https://localhost:8080/",
          "height": 180
        },
        "id": "Ag3RYDBQ7KOX",
        "outputId": "b9ef4663-d2d6-4d9c-ccb5-67d0b155d1de"
      },
      "execution_count": null,
      "outputs": [
        {
          "output_type": "display_data",
          "data": {
            "text/plain": [
              "<Figure size 720x720 with 4 Axes>"
            ],
            "image/png": "[encoded data removed]"
          },
          "metadata": {
            "needs_background": "light"
          }
        }
      ]
    },
    {
      "cell_type": "markdown",
      "source": [
        "# 모델 생성 및 학습"
      ],
      "metadata": {
        "id": "oD_t3Jm46icu"
      }
    },
    {
      "cell_type": "code",
      "source": [
        "# 모델 구성\n",
        "model = Sequential()\n",
        "model.add(Conv2D(64, kernel_size=(3,3), padding='same',\n",
        "                input_shape=(28,28,3), activation='relu'))\n",
        "model.add(MaxPooling2D(pool_size=(2,2)))\n",
        "model.add(Dropout(0.25))\n",
        "\n",
        "model.add(Conv2D(128, kernel_size=(3,3),padding='same', activation='relu'))\n",
        "model.add(MaxPooling2D(pool_size=(2,2)))\n",
        "model.add(Dropout(0.25))\n",
        "\n",
        "model.add(Conv2D(256, kernel_size=(3,3), activation='relu'))\n",
        "model.add(MaxPooling2D(pool_size=(2,2)))\n",
        "model.add(Dropout(0.25))\n",
        "#출력단\n",
        "model.add(Flatten())\n",
        "model.add(Dense(256, activation='relu'))\n",
        "model.add(Dropout(0.25))\n",
        "model.add(Dense(5, activation='softmax'))#5개의 클래스-softmax"
      ],
      "metadata": {
        "id": "36mqEYa46oCN"
      },
      "execution_count": null,
      "outputs": []
    },
    {
      "cell_type": "code",
      "source": [
        "#모델 설정\n",
        "model.compile(loss='categorical_crossentropy',#다중분류에서 사용/원-핫\n",
        "             optimizer='adam',\n",
        "             metrics=['accuracy'])"
      ],
      "metadata": {
        "id": "KGcuKhn26rI9"
      },
      "execution_count": null,
      "outputs": []
    },
    {
      "cell_type": "code",
      "source": [
        "#모델 학습\n",
        "history=model.fit(\n",
        "    trainGenSet,\n",
        "    steps_per_epoch=4,#한 epoch당 스텝수\n",
        "    epochs=100,\n",
        "    validation_data=testGenSet,#테스트를 validation으로 사용함\n",
        "    validation_steps=4, #epoch종료마다 검증하는 스텝수\n",
        ")"
      ],
      "metadata": {
        "colab": {
          "base_uri": "https://localhost:8080/"
        },
        "id": "_r8af9qnn9Tt",
        "outputId": "3a951789-69ed-403d-eca6-fbff1714e48c"
      },
      "execution_count": null,
      "outputs": [
        {
          "output_type": "stream",
          "name": "stdout",
          "text": [
            "Epoch 1/100\n",
            "4/4 [==============================] - ETA: 0s - loss: 1.8309 - accuracy: 0.1250"
          ]
        },
        {
          "output_type": "stream",
          "name": "stderr",
          "text": [
            "WARNING:tensorflow:Your input ran out of data; interrupting training. Make sure that your dataset or generator can generate at least `steps_per_epoch * epochs` batches (in this case, 4 batches). You may need to use the repeat() function when building your dataset.\n"
          ]
        },
        {
          "output_type": "stream",
          "name": "stdout",
          "text": [
            "\b\b\b\b\b\b\b\b\b\b\b\b\b\b\b\b\b\b\b\b\b\b\b\b\b\b\b\b\b\b\b\b\b\b\b\b\b\b\b\b\b\b\b\b\b\b\b\b\b\b\b\b\b\b\b\b\b\b\b\b\b\b\b\b\b\b\b\b\b\b\b\b\b\b\b\b\b\b\b\b\r4/4 [==============================] - 4s 1s/step - loss: 1.8309 - accuracy: 0.1250 - val_loss: 1.6129 - val_accuracy: 0.1600\n",
            "Epoch 2/100\n",
            "4/4 [==============================] - 0s 81ms/step - loss: 1.6854 - accuracy: 0.0750\n",
            "Epoch 3/100\n",
            "4/4 [==============================] - 0s 85ms/step - loss: 1.6199 - accuracy: 0.2500\n",
            "Epoch 4/100\n",
            "4/4 [==============================] - 0s 84ms/step - loss: 1.5995 - accuracy: 0.3250\n",
            "Epoch 5/100\n",
            "4/4 [==============================] - 0s 84ms/step - loss: 1.6801 - accuracy: 0.1500\n",
            "Epoch 6/100\n",
            "4/4 [==============================] - 0s 85ms/step - loss: 1.6203 - accuracy: 0.2000\n",
            "Epoch 7/100\n",
            "4/4 [==============================] - 0s 85ms/step - loss: 1.6286 - accuracy: 0.2000\n",
            "Epoch 8/100\n",
            "4/4 [==============================] - 0s 86ms/step - loss: 1.6058 - accuracy: 0.2000\n",
            "Epoch 9/100\n",
            "4/4 [==============================] - 0s 87ms/step - loss: 1.6233 - accuracy: 0.2000\n",
            "Epoch 10/100\n",
            "4/4 [==============================] - 0s 88ms/step - loss: 1.6112 - accuracy: 0.2000\n",
            "Epoch 11/100\n",
            "4/4 [==============================] - 0s 82ms/step - loss: 1.6157 - accuracy: 0.1250\n",
            "Epoch 12/100\n",
            "4/4 [==============================] - 0s 88ms/step - loss: 1.6151 - accuracy: 0.1750\n",
            "Epoch 13/100\n",
            "4/4 [==============================] - 0s 84ms/step - loss: 1.6117 - accuracy: 0.2000\n",
            "Epoch 14/100\n",
            "4/4 [==============================] - 0s 82ms/step - loss: 1.6062 - accuracy: 0.2000\n",
            "Epoch 15/100\n",
            "4/4 [==============================] - 0s 89ms/step - loss: 1.6114 - accuracy: 0.1750\n",
            "Epoch 16/100\n",
            "4/4 [==============================] - 0s 84ms/step - loss: 1.6148 - accuracy: 0.2750\n",
            "Epoch 17/100\n",
            "4/4 [==============================] - 0s 85ms/step - loss: 1.6131 - accuracy: 0.1500\n",
            "Epoch 18/100\n",
            "4/4 [==============================] - 0s 84ms/step - loss: 1.5893 - accuracy: 0.3500\n",
            "Epoch 19/100\n",
            "4/4 [==============================] - 0s 95ms/step - loss: 1.6116 - accuracy: 0.1500\n",
            "Epoch 20/100\n",
            "4/4 [==============================] - 0s 82ms/step - loss: 1.5988 - accuracy: 0.2250\n",
            "Epoch 21/100\n",
            "4/4 [==============================] - 0s 86ms/step - loss: 1.5757 - accuracy: 0.3750\n",
            "Epoch 22/100\n",
            "4/4 [==============================] - 0s 90ms/step - loss: 1.6393 - accuracy: 0.2000\n",
            "Epoch 23/100\n",
            "4/4 [==============================] - 0s 91ms/step - loss: 1.6146 - accuracy: 0.1500\n",
            "Epoch 24/100\n",
            "4/4 [==============================] - 0s 81ms/step - loss: 1.6125 - accuracy: 0.1750\n",
            "Epoch 25/100\n",
            "4/4 [==============================] - 1s 143ms/step - loss: 1.5824 - accuracy: 0.3500\n",
            "Epoch 26/100\n",
            "4/4 [==============================] - 1s 146ms/step - loss: 1.6021 - accuracy: 0.3250\n",
            "Epoch 27/100\n",
            "4/4 [==============================] - 1s 147ms/step - loss: 1.5780 - accuracy: 0.2500\n",
            "Epoch 28/100\n",
            "4/4 [==============================] - 1s 158ms/step - loss: 1.5767 - accuracy: 0.3250\n",
            "Epoch 29/100\n",
            "4/4 [==============================] - 0s 84ms/step - loss: 1.5796 - accuracy: 0.2250\n",
            "Epoch 30/100\n",
            "4/4 [==============================] - 0s 83ms/step - loss: 1.5762 - accuracy: 0.1750\n",
            "Epoch 31/100\n",
            "4/4 [==============================] - 0s 92ms/step - loss: 1.6074 - accuracy: 0.2500\n",
            "Epoch 32/100\n",
            "4/4 [==============================] - 0s 83ms/step - loss: 1.4917 - accuracy: 0.4500\n",
            "Epoch 33/100\n",
            "4/4 [==============================] - 0s 92ms/step - loss: 1.5538 - accuracy: 0.2500\n",
            "Epoch 34/100\n",
            "4/4 [==============================] - 0s 81ms/step - loss: 1.5037 - accuracy: 0.4000\n",
            "Epoch 35/100\n",
            "4/4 [==============================] - 0s 83ms/step - loss: 1.4563 - accuracy: 0.4250\n",
            "Epoch 36/100\n",
            "4/4 [==============================] - 0s 88ms/step - loss: 1.4559 - accuracy: 0.3500\n",
            "Epoch 37/100\n",
            "4/4 [==============================] - 0s 85ms/step - loss: 1.3091 - accuracy: 0.4250\n",
            "Epoch 38/100\n",
            "4/4 [==============================] - 0s 91ms/step - loss: 1.5482 - accuracy: 0.3250\n",
            "Epoch 39/100\n",
            "4/4 [==============================] - 0s 89ms/step - loss: 1.3024 - accuracy: 0.4500\n",
            "Epoch 40/100\n",
            "4/4 [==============================] - 0s 87ms/step - loss: 1.3467 - accuracy: 0.5250\n",
            "Epoch 41/100\n",
            "4/4 [==============================] - 0s 91ms/step - loss: 1.5406 - accuracy: 0.3500\n",
            "Epoch 42/100\n",
            "4/4 [==============================] - 0s 80ms/step - loss: 1.3674 - accuracy: 0.4000\n",
            "Epoch 43/100\n",
            "4/4 [==============================] - 0s 88ms/step - loss: 1.3850 - accuracy: 0.4750\n",
            "Epoch 44/100\n",
            "4/4 [==============================] - 0s 87ms/step - loss: 1.2376 - accuracy: 0.5250\n",
            "Epoch 45/100\n",
            "4/4 [==============================] - 0s 90ms/step - loss: 1.4437 - accuracy: 0.2500\n",
            "Epoch 46/100\n",
            "4/4 [==============================] - 0s 92ms/step - loss: 1.1607 - accuracy: 0.6250\n",
            "Epoch 47/100\n",
            "4/4 [==============================] - 1s 123ms/step - loss: 1.2504 - accuracy: 0.4500\n",
            "Epoch 48/100\n",
            "4/4 [==============================] - 1s 123ms/step - loss: 1.0310 - accuracy: 0.5750\n",
            "Epoch 49/100\n",
            "4/4 [==============================] - 0s 84ms/step - loss: 0.9624 - accuracy: 0.5750\n",
            "Epoch 50/100\n",
            "4/4 [==============================] - 0s 90ms/step - loss: 1.0440 - accuracy: 0.5250\n",
            "Epoch 51/100\n",
            "4/4 [==============================] - 0s 81ms/step - loss: 1.0018 - accuracy: 0.5000\n",
            "Epoch 52/100\n",
            "4/4 [==============================] - 0s 87ms/step - loss: 0.7998 - accuracy: 0.6750\n",
            "Epoch 53/100\n",
            "4/4 [==============================] - 0s 88ms/step - loss: 0.7622 - accuracy: 0.7500\n",
            "Epoch 54/100\n",
            "4/4 [==============================] - 0s 83ms/step - loss: 0.7881 - accuracy: 0.7000\n",
            "Epoch 55/100\n",
            "4/4 [==============================] - 0s 83ms/step - loss: 0.7338 - accuracy: 0.7500\n",
            "Epoch 56/100\n",
            "4/4 [==============================] - 0s 83ms/step - loss: 0.6762 - accuracy: 0.6500\n",
            "Epoch 57/100\n",
            "4/4 [==============================] - 0s 86ms/step - loss: 0.7825 - accuracy: 0.7000\n",
            "Epoch 58/100\n",
            "4/4 [==============================] - 0s 104ms/step - loss: 0.8596 - accuracy: 0.6500\n",
            "Epoch 59/100\n",
            "4/4 [==============================] - 0s 93ms/step - loss: 0.7098 - accuracy: 0.7250\n",
            "Epoch 60/100\n",
            "4/4 [==============================] - 1s 135ms/step - loss: 0.6562 - accuracy: 0.7250\n",
            "Epoch 61/100\n",
            "4/4 [==============================] - 1s 172ms/step - loss: 0.7516 - accuracy: 0.7000\n",
            "Epoch 62/100\n",
            "4/4 [==============================] - 0s 85ms/step - loss: 0.5541 - accuracy: 0.7500\n",
            "Epoch 63/100\n",
            "4/4 [==============================] - 0s 88ms/step - loss: 0.7634 - accuracy: 0.7000\n",
            "Epoch 64/100\n",
            "4/4 [==============================] - 0s 81ms/step - loss: 0.5934 - accuracy: 0.6750\n",
            "Epoch 65/100\n",
            "4/4 [==============================] - 0s 88ms/step - loss: 0.7423 - accuracy: 0.8000\n",
            "Epoch 66/100\n",
            "4/4 [==============================] - 0s 87ms/step - loss: 0.4833 - accuracy: 0.9000\n",
            "Epoch 67/100\n",
            "4/4 [==============================] - 0s 90ms/step - loss: 0.5103 - accuracy: 0.8000\n",
            "Epoch 68/100\n",
            "4/4 [==============================] - 0s 88ms/step - loss: 0.7262 - accuracy: 0.7000\n",
            "Epoch 69/100\n",
            "4/4 [==============================] - 0s 83ms/step - loss: 0.5227 - accuracy: 0.8250\n",
            "Epoch 70/100\n",
            "4/4 [==============================] - 1s 153ms/step - loss: 0.4169 - accuracy: 0.8500\n",
            "Epoch 71/100\n",
            "4/4 [==============================] - 1s 141ms/step - loss: 0.5272 - accuracy: 0.8500\n",
            "Epoch 72/100\n",
            "4/4 [==============================] - 0s 88ms/step - loss: 0.3673 - accuracy: 0.9500\n",
            "Epoch 73/100\n",
            "4/4 [==============================] - 0s 86ms/step - loss: 0.4555 - accuracy: 0.8250\n",
            "Epoch 74/100\n",
            "4/4 [==============================] - 0s 85ms/step - loss: 0.3902 - accuracy: 0.8750\n",
            "Epoch 75/100\n",
            "4/4 [==============================] - 0s 85ms/step - loss: 0.4391 - accuracy: 0.7750\n",
            "Epoch 76/100\n",
            "4/4 [==============================] - 0s 97ms/step - loss: 0.6797 - accuracy: 0.7500\n",
            "Epoch 77/100\n",
            "4/4 [==============================] - 0s 89ms/step - loss: 0.4775 - accuracy: 0.7750\n",
            "Epoch 78/100\n",
            "4/4 [==============================] - 0s 88ms/step - loss: 0.4754 - accuracy: 0.8250\n",
            "Epoch 79/100\n",
            "4/4 [==============================] - 0s 92ms/step - loss: 0.4533 - accuracy: 0.8250\n",
            "Epoch 80/100\n",
            "4/4 [==============================] - 0s 83ms/step - loss: 0.5003 - accuracy: 0.8500\n",
            "Epoch 81/100\n",
            "4/4 [==============================] - 0s 86ms/step - loss: 0.5048 - accuracy: 0.8000\n",
            "Epoch 82/100\n",
            "4/4 [==============================] - 0s 87ms/step - loss: 0.3804 - accuracy: 0.8750\n",
            "Epoch 83/100\n",
            "4/4 [==============================] - 0s 86ms/step - loss: 0.3605 - accuracy: 0.8500\n",
            "Epoch 84/100\n",
            "4/4 [==============================] - 0s 85ms/step - loss: 0.4655 - accuracy: 0.8500\n",
            "Epoch 85/100\n",
            "4/4 [==============================] - 0s 83ms/step - loss: 0.4490 - accuracy: 0.8000\n",
            "Epoch 86/100\n",
            "4/4 [==============================] - 0s 83ms/step - loss: 0.4926 - accuracy: 0.8250\n",
            "Epoch 87/100\n",
            "4/4 [==============================] - 0s 83ms/step - loss: 0.4230 - accuracy: 0.8250\n",
            "Epoch 88/100\n",
            "4/4 [==============================] - 0s 86ms/step - loss: 0.4420 - accuracy: 0.8500\n",
            "Epoch 89/100\n",
            "4/4 [==============================] - 0s 87ms/step - loss: 0.4075 - accuracy: 0.8000\n",
            "Epoch 90/100\n",
            "4/4 [==============================] - 0s 92ms/step - loss: 0.5130 - accuracy: 0.7500\n",
            "Epoch 91/100\n",
            "4/4 [==============================] - 0s 87ms/step - loss: 0.2119 - accuracy: 0.9750\n",
            "Epoch 92/100\n",
            "4/4 [==============================] - 0s 92ms/step - loss: 0.4665 - accuracy: 0.8000\n",
            "Epoch 93/100\n",
            "4/4 [==============================] - 0s 86ms/step - loss: 0.2227 - accuracy: 0.9000\n",
            "Epoch 94/100\n",
            "4/4 [==============================] - 0s 87ms/step - loss: 0.3478 - accuracy: 0.8750\n",
            "Epoch 95/100\n",
            "4/4 [==============================] - 0s 85ms/step - loss: 0.5495 - accuracy: 0.8750\n",
            "Epoch 96/100\n",
            "4/4 [==============================] - 0s 90ms/step - loss: 0.2815 - accuracy: 0.9250\n",
            "Epoch 97/100\n",
            "4/4 [==============================] - 0s 84ms/step - loss: 0.2808 - accuracy: 0.9000\n",
            "Epoch 98/100\n",
            "4/4 [==============================] - 0s 91ms/step - loss: 0.3201 - accuracy: 0.8750\n",
            "Epoch 99/100\n",
            "4/4 [==============================] - 0s 87ms/step - loss: 0.2303 - accuracy: 0.9500\n",
            "Epoch 100/100\n",
            "4/4 [==============================] - 0s 79ms/step - loss: 0.2468 - accuracy: 0.8750\n"
          ]
        }
      ]
    },
    {
      "cell_type": "markdown",
      "source": [
        "# 학습 결과 확인"
      ],
      "metadata": {
        "id": "MIYrImhO_U9N"
      }
    },
    {
      "cell_type": "code",
      "source": [
        "scores = model.evaluate(testGenSet) \n",
        "print(scores) #loss와 accuracy"
      ],
      "metadata": {
        "id": "K_mU10N_6sWV",
        "colab": {
          "base_uri": "https://localhost:8080/"
        },
        "outputId": "21e60c2d-a539-44f8-db86-7d32b68318f2"
      },
      "execution_count": null,
      "outputs": [
        {
          "output_type": "stream",
          "name": "stdout",
          "text": [
            "3/3 [==============================] - 0s 21ms/step - loss: 0.0934 - accuracy: 0.9600\n",
            "[0.0934065729379654, 0.9599999785423279]\n"
          ]
        }
      ]
    },
    {
      "cell_type": "code",
      "source": [
        "# 정확도 및 손실 시각화\n",
        "acc = history.history['accuracy']\n",
        "val_acc = history.history['val_accuracy']\n",
        "loss = history.history['loss']\n",
        "val_loss = history.history['val_loss']\n",
        "\n",
        "epochs = range(len(acc))\n",
        "\n",
        "plt.plot(epochs, acc, 'bo', label='Training accuracy')\n",
        "#plt.plot(epochs, val_acc, 'b', label='Validation accuracy')\n",
        "plt.title('Training accuracy')\n",
        "plt.legend()\n",
        "\n",
        "plt.figure()\n",
        "\n",
        "plt.plot(epochs, loss, 'go', label='Training loss')\n",
        "#plt.plot(epochs, val_loss, 'g', label='Validation loss')\n",
        "plt.title('Training loss')\n",
        "plt.legend()\n",
        "\n",
        "plt.show()"
      ],
      "metadata": {
        "colab": {
          "base_uri": "https://localhost:8080/",
          "height": 545
        },
        "id": "SKbecx2ssNKM",
        "outputId": "9424e1ee-1252-4aee-b636-00db2c37a298"
      },
      "execution_count": null,
      "outputs": [
        {
          "output_type": "display_data",
          "data": {
            "text/plain": [
              "<Figure size 432x288 with 1 Axes>"
            ],
            "image/png": "[encoded data removed]"
          },
          "metadata": {
            "needs_background": "light"
          }
        },
        {
          "output_type": "display_data",
          "data": {
            "text/plain": [
              "<Figure size 432x288 with 1 Axes>"
            ],
            "image/png": "[encoded data removed]"
          },
          "metadata": {
            "needs_background": "light"
          }
        }
      ]
    },
    {
      "cell_type": "code",
      "source": [
        "word_text=['aa', 'da', 'ga', 'ka', 'sa']"
      ],
      "metadata": {
        "id": "P1rANw389Aq8"
      },
      "execution_count": null,
      "outputs": []
    },
    {
      "cell_type": "code",
      "source": [
        "for n,text in enumerate(word_text):\n",
        "  print(n,text)\n",
        "  sp=plt.subplot(1,5,n+1)\n",
        "  test_img = image.load_img(path+\"test/\"+text+\"/\"+text +\" (4).png\", target_size=(28, 28))   \n",
        "  x = image.img_to_array(test_img)\n",
        "  x = np.expand_dims(x, axis=0)\n",
        "  images = np.vstack([x])\n",
        "  classes = model.predict(images, batch_size=10)\n",
        "  #예측 결과 출력\n",
        "  for x in range(0,5):\n",
        "    if classes[0][x]==1:\n",
        "      plt.title(\"This is\".join([k for k, v in word.items() if v == x]))      \n",
        "  plt.imshow(test_img)\n",
        "plt.show();"
      ],
      "metadata": {
        "colab": {
          "base_uri": "https://localhost:8080/",
          "height": 308
        },
        "id": "ecUuhdptuRFZ",
        "outputId": "a0c66fe2-9ac2-4197-d478-2d627ee63a38"
      },
      "execution_count": null,
      "outputs": [
        {
          "output_type": "stream",
          "name": "stdout",
          "text": [
            "0 aa\n",
            "1/1 [==============================] - 0s 88ms/step\n",
            "1 da\n",
            "1/1 [==============================] - 0s 23ms/step\n",
            "2 ga\n",
            "1/1 [==============================] - 0s 21ms/step\n",
            "3 ka\n",
            "1/1 [==============================] - 0s 20ms/step\n",
            "4 sa\n",
            "1/1 [==============================] - 0s 19ms/step\n"
          ]
        },
        {
          "output_type": "display_data",
          "data": {
            "text/plain": [
              "<Figure size 432x288 with 5 Axes>"
            ],
            "image/png": "[encoded data removed]"
          },
          "metadata": {
            "needs_background": "light"
          }
        }
      ]
    }
  ]
}